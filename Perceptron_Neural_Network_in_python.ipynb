{
  "nbformat": 4,
  "nbformat_minor": 0,
  "metadata": {
    "colab": {
      "name": "Perceptron-Neural Network in python.ipynb",
      "provenance": [],
      "authorship_tag": "ABX9TyPhyIfshYxCIFE0LpFGP2ju",
      "include_colab_link": true
    },
    "kernelspec": {
      "display_name": "Python 3",
      "name": "python3"
    },
    "language_info": {
      "name": "python"
    }
  },
  "cells": [
    {
      "cell_type": "markdown",
      "metadata": {
        "id": "view-in-github",
        "colab_type": "text"
      },
      "source": [
        "<a href=\"https://colab.research.google.com/github/SaraKarim23/Perceptron-Neural-Network/blob/main/Perceptron_Neural_Network_in_python.ipynb\" target=\"_parent\"><img src=\"https://colab.research.google.com/assets/colab-badge.svg\" alt=\"Open In Colab\"/></a>"
      ]
    },
    {
      "cell_type": "markdown",
      "metadata": {
        "id": "Lw6bz-HrWdpV"
      },
      "source": [
        "# Import Libraries"
      ]
    },
    {
      "cell_type": "code",
      "metadata": {
        "id": "ZegvbOFu6UKI"
      },
      "source": [
        "import numpy as np"
      ],
      "execution_count": null,
      "outputs": []
    },
    {
      "cell_type": "markdown",
      "metadata": {
        "id": "RaKosOuCOD1R"
      },
      "source": [
        "#  Sigmoid function to normalize inputs"
      ]
    },
    {
      "cell_type": "code",
      "metadata": {
        "id": "kaZNKfxMN5Ok"
      },
      "source": [
        "def sigmoid(x):\n",
        "    return 1 / (1 + np.exp(-x))"
      ],
      "execution_count": null,
      "outputs": []
    },
    {
      "cell_type": "markdown",
      "metadata": {
        "id": "95Yj6gc7OXyj"
      },
      "source": [
        "# Sigmoid derivatives to adjust synaptic weights"
      ]
    },
    {
      "cell_type": "code",
      "metadata": {
        "id": "HDnItkimOTlU"
      },
      "source": [
        "#def sigmoid_derivative(x):\n",
        "    #return x * (1 - x)"
      ],
      "execution_count": null,
      "outputs": []
    },
    {
      "cell_type": "markdown",
      "metadata": {
        "id": "yTN3QterOovr"
      },
      "source": [
        "# Input dataset\n",
        "\n",
        "\n",
        "\n"
      ]
    },
    {
      "cell_type": "code",
      "metadata": {
        "id": "zFuARcevOmTx"
      },
      "source": [
        "training_inputs = np.array([[0,0,1],\n",
        "                            [1,1,1],\n",
        "                            [1,0,1],\n",
        "                            [0,1,1]])"
      ],
      "execution_count": null,
      "outputs": []
    },
    {
      "cell_type": "markdown",
      "metadata": {
        "id": "XjSacW5mOw-o"
      },
      "source": [
        "# Output dataset"
      ]
    },
    {
      "cell_type": "code",
      "metadata": {
        "id": "d1Vdf4A0Oyoy"
      },
      "source": [
        "training_outputs = np.array([[1,0,0,1]]).T"
      ],
      "execution_count": null,
      "outputs": []
    },
    {
      "cell_type": "markdown",
      "metadata": {
        "id": "8330fspHPVZB"
      },
      "source": [
        "# Initialize weights"
      ]
    },
    {
      "cell_type": "code",
      "metadata": {
        "colab": {
          "base_uri": "https://localhost:8080/"
        },
        "id": "ebIz8a-UPV6p",
        "outputId": "77bfcb9e-5661-4afb-9b9b-cb78370fd4f4"
      },
      "source": [
        "np.random.seed(1)\n",
        "synaptic_weights = 1 * np.random.random((3,1)) - 1\n",
        "\n",
        "print('Random starting synaptic weights: ')\n",
        "print(synaptic_weights)"
      ],
      "execution_count": null,
      "outputs": [
        {
          "output_type": "stream",
          "text": [
            "Random starting synaptic weights: \n",
            "[[-0.582978  ]\n",
            " [-0.27967551]\n",
            " [-0.99988563]]\n"
          ],
          "name": "stdout"
        }
      ]
    },
    {
      "cell_type": "code",
      "metadata": {
        "id": "HfMPh4T4vUYy"
      },
      "source": [
        "#synaptic_weights = np.random.uniform(low=-1, high=1, size=(3, 1))\n",
        "#print('Random starting synaptic weights: ')\n",
        "#print(synaptic_weights)"
      ],
      "execution_count": null,
      "outputs": []
    },
    {
      "cell_type": "markdown",
      "metadata": {
        "id": "wh0OO4_uPmpD"
      },
      "source": [
        "# Iteration"
      ]
    },
    {
      "cell_type": "code",
      "metadata": {
        "id": "FDWMzsoYPnaD"
      },
      "source": [
        "for iteration in range(5000):\n",
        "  # Define input layer\n",
        "    input_layer = training_inputs\n",
        "    \n",
        "    # Normalize the product of the input layer with the synaptic weights\n",
        "    outputs = sigmoid(np.dot(input_layer, synaptic_weights))\n",
        "\n",
        "    # how much did we miss?\n",
        "    error = training_outputs - outputs\n",
        "\n",
        "    # multiply how much we missed by the\n",
        "    # slope of the sigmoid at the values in outputs\n",
        "    adjustments = error * sigmoid_derivative(outputs)\n",
        "\n",
        "    # update weights\n",
        "    synaptic_weights += np.dot(input_layer.T, adjustments)"
      ],
      "execution_count": null,
      "outputs": []
    },
    {
      "cell_type": "markdown",
      "metadata": {
        "id": "pTZTQIHZWwbo"
      },
      "source": [
        "# Synaptic weights after training"
      ]
    },
    {
      "cell_type": "code",
      "metadata": {
        "id": "_YM079G6QLf8",
        "colab": {
          "base_uri": "https://localhost:8080/"
        },
        "outputId": "2a704f57-b268-4248-80f1-a9fca0c37577"
      },
      "source": [
        "print('Synaptic weights after training: ')\n",
        "print(synaptic_weights)"
      ],
      "execution_count": null,
      "outputs": [
        {
          "output_type": "stream",
          "text": [
            "Synaptic weights after training: \n",
            "[[-8.95906674]\n",
            " [ 0.2111775 ]\n",
            " [ 4.27021771]]\n"
          ],
          "name": "stdout"
        }
      ]
    },
    {
      "cell_type": "markdown",
      "metadata": {
        "id": "DyQJ6z5ZW8b5"
      },
      "source": [
        "# Output After Training"
      ]
    },
    {
      "cell_type": "code",
      "metadata": {
        "colab": {
          "base_uri": "https://localhost:8080/"
        },
        "id": "ely2mT1GUx7o",
        "outputId": "59c3950c-38f5-467c-87be-9bd53f5a16f1"
      },
      "source": [
        "print(\"Output After Training:\")\n",
        "print(outputs)"
      ],
      "execution_count": null,
      "outputs": [
        {
          "output_type": "stream",
          "text": [
            "Output After Training:\n",
            "[[0.98621255]\n",
            " [0.01123339]\n",
            " [0.00911438]\n",
            " [0.9888079 ]]\n"
          ],
          "name": "stdout"
        }
      ]
    }
  ]
}